{
 "cells": [
  {
   "cell_type": "code",
   "execution_count": 1,
   "metadata": {},
   "outputs": [
    {
     "name": "stdout",
     "output_type": "stream",
     "text": [
      "Enter number : 5\n",
      "Enter power : 2\n",
      "25\n"
     ]
    }
   ],
   "source": [
    " #1. Write a function that accepts two positional arguments (x and y) and returns x raised to power y.\n",
    "def func(x,y):\n",
    "    return(x**y)\n",
    "a = int(input(\"Enter number : \"))\n",
    "b = int(input(\"Enter power : \"))\n",
    "c = func(a,b)\n",
    "print(c)"
   ]
  },
  {
   "cell_type": "code",
   "execution_count": 2,
   "metadata": {},
   "outputs": [
    {
     "name": "stdout",
     "output_type": "stream",
     "text": [
      "Enter first string : saurav\n",
      "Enter second string : kaushik\n",
      "Output of concatenation is : sauravkaushik\n"
     ]
    }
   ],
   "source": [
    "# 2.Write a function that accepts two strings and returns the concatenation of the two. \n",
    "#    Also if no argument is there in the call, return the concatenation of ‘Hello’ and ‘world’.\n",
    "def func(a,b):\n",
    "    return(a+b)\n",
    "stra = input('Enter first string : ')\n",
    "strb = input('Enter second string : ')\n",
    "try :\n",
    "    print('Output of concatenation is :',func(stra,strb))\n",
    "except TypeError as e:\n",
    "    print('Hello'+'World')"
   ]
  },
  {
   "cell_type": "code",
   "execution_count": 3,
   "metadata": {},
   "outputs": [
    {
     "name": "stdout",
     "output_type": "stream",
     "text": [
      "Enter number : 36\n",
      "True\n"
     ]
    }
   ],
   "source": [
    "# 3. Write a function which returns a bool, indicating if the input number is even or not.\n",
    "def check(a):\n",
    "    if a%2==0:\n",
    "        return(True)\n",
    "    else:\n",
    "        return(False)\n",
    "a = int(input(\"Enter number : \"))\n",
    "print(check(a))"
   ]
  },
  {
   "cell_type": "code",
   "execution_count": 5,
   "metadata": {},
   "outputs": [
    {
     "name": "stdout",
     "output_type": "stream",
     "text": [
      "Enter number : 5\n",
      "True\n"
     ]
    }
   ],
   "source": [
    "# 4. Write function which returns a bool, indicating if the input number is a prime or not.\n",
    "def check(a):\n",
    "    ans = True\n",
    "    for i in range(2,int(a%2)+1):\n",
    "        if a%i==0:\n",
    "            ans = False\n",
    "            break;\n",
    "        else:\n",
    "            pass\n",
    "    if ans == True:\n",
    "        return(True)\n",
    "    else:\n",
    "        return(False)\n",
    "\n",
    "a=int(input('Enter number : '))\n",
    "print(check(a))"
   ]
  },
  {
   "cell_type": "code",
   "execution_count": 6,
   "metadata": {},
   "outputs": [
    {
     "name": "stdout",
     "output_type": "stream",
     "text": [
      "Enter string : sAurav\n",
      "False\n"
     ]
    }
   ],
   "source": [
    "# 5. Write function which returns a bool, indicating if the input is a pallindrome or not.\n",
    "#    Example: ‘abba’ ==> True , ‘fkdjskj’ ==> False , 12345 ==> False , 1221 ==> True.\n",
    "def check(a):\n",
    "    b = ''\n",
    "    for i in a:\n",
    "        b = i + b\n",
    "    if a==b :\n",
    "        return(True)\n",
    "    else:\n",
    "        return(False)\n",
    "    \n",
    "a=input('Enter string : ')\n",
    "print(check(a))"
   ]
  },
  {
   "cell_type": "code",
   "execution_count": 7,
   "metadata": {},
   "outputs": [
    {
     "name": "stdout",
     "output_type": "stream",
     "text": [
      "Enter string : saurav\n",
      "1 words.\n"
     ]
    }
   ],
   "source": [
    "# 6. Write a program that takes input a string and find the number of words in the string.\n",
    "def count(a):\n",
    "    words = a.count(' ')+1\n",
    "    print(words,'words.')\n",
    "a=input('Enter string : ')\n",
    "count(a)"
   ]
  },
  {
   "cell_type": "code",
   "execution_count": 8,
   "metadata": {},
   "outputs": [
    {
     "name": "stdout",
     "output_type": "stream",
     "text": [
      "Enter first number : 56\n",
      "Enter second number : 67\n",
      "Enter third number : 78\n",
      "78 is largest of three.\n"
     ]
    }
   ],
   "source": [
    "# 7. Write a program to find the largest of the three given numbers n,m,l. Example -> input 4,9,2 →9.\n",
    "def largest(a,b,c):\n",
    "    if a>b:\n",
    "        if a>c:\n",
    "            print(a,'is largest of three.')\n",
    "        else:\n",
    "            print(c,'is largest of three.')\n",
    "    else:\n",
    "        if b>c:\n",
    "            print(b,'is largest of three.')\n",
    "        else:\n",
    "            print(c,'is largest of three.')\n",
    "a=int(input('Enter first number : '))\n",
    "b=int(input('Enter second number : '))\n",
    "c=int(input('Enter third number : '))\n",
    "largest(a,b,c)"
   ]
  },
  {
   "cell_type": "code",
   "execution_count": 9,
   "metadata": {},
   "outputs": [
    {
     "name": "stdout",
     "output_type": "stream",
     "text": [
      "5\n",
      "11\n",
      "14\n",
      "17\n",
      "23\n",
      "26\n",
      "29\n",
      "35\n",
      "38\n",
      "41\n"
     ]
    }
   ],
   "source": [
    "# 8. Write a program which prints first N1 terms of the series 3n + 2 which are not\n",
    "#    multiples of N2. The program takes input N1 and N2. Example: if N1 = 10 and N2 = 4 ==>\n",
    "#    output:\n",
    "#    5\n",
    "#    11\n",
    "#    14\n",
    "#    17\n",
    "#    23\n",
    "#    26\n",
    "#    29\n",
    "#    35\n",
    "#    38\n",
    "#    41\n",
    "\n",
    "def printing(n1,n2):\n",
    "    count=0\n",
    "    i=1\n",
    "    while(True):\n",
    "        if(((3*i)+2)%n2)==0:\n",
    "            i+=1\n",
    "            pass\n",
    "        else:\n",
    "            print(3*i+2)\n",
    "            i+=1\n",
    "            count+=1\n",
    "        if count==n1:\n",
    "            break\n",
    "\n",
    "printing(10,4)"
   ]
  },
  {
   "cell_type": "code",
   "execution_count": 10,
   "metadata": {},
   "outputs": [
    {
     "name": "stdout",
     "output_type": "stream",
     "text": [
      "678\n",
      "21\n"
     ]
    }
   ],
   "source": [
    "# 13. Write a program to find sum of all the digits of a number. (take input from user).\n",
    "#    Example: n = 1845 ==> 18 , 1000 ==> 1. sum(map(lambda x: int(x),list(map(lambda x: x+ ' ' , '1856'))))\n",
    "sum = 0\n",
    "a = input()\n",
    "for i in a:\n",
    "    sum=sum+int(i)\n",
    "print(sum)"
   ]
  },
  {
   "cell_type": "code",
   "execution_count": 11,
   "metadata": {},
   "outputs": [
    {
     "name": "stdout",
     "output_type": "stream",
     "text": [
      "Enter string : saurav% @ good\n",
      "String without special characters is  sauravgood\n"
     ]
    }
   ],
   "source": [
    "# 14. Write a program to remove all the puctuations ('!()-[]{};:'\"\\,<>./?@#$%^&*_~') from the input sentence.\n",
    "a='! ( ) - [ ] { } ; : , < > . / ? @ # $ % ^ & * _ ~ \"'\n",
    "b=a.split(\" \")\n",
    "b.append(\"'\")\n",
    "entered = input(\"Enter string : \")\n",
    "new = \"\"\n",
    "for i in entered :\n",
    "    if i in a:\n",
    "        pass\n",
    "    else:\n",
    "        new = new + i\n",
    "print(\"String without special characters is \",new)"
   ]
  },
  {
   "cell_type": "code",
   "execution_count": null,
   "metadata": {},
   "outputs": [],
   "source": []
  },
  {
   "cell_type": "code",
   "execution_count": null,
   "metadata": {},
   "outputs": [],
   "source": []
  }
 ],
 "metadata": {
  "kernelspec": {
   "display_name": "Python 3",
   "language": "python",
   "name": "python3"
  },
  "language_info": {
   "codemirror_mode": {
    "name": "ipython",
    "version": 3
   },
   "file_extension": ".py",
   "mimetype": "text/x-python",
   "name": "python",
   "nbconvert_exporter": "python",
   "pygments_lexer": "ipython3",
   "version": "3.7.3"
  }
 },
 "nbformat": 4,
 "nbformat_minor": 2
}
