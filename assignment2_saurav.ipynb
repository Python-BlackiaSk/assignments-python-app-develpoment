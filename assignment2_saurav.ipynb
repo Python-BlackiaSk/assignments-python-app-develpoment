{
 "cells": [
  {
   "cell_type": "code",
   "execution_count": 1,
   "metadata": {},
   "outputs": [
    {
     "name": "stdout",
     "output_type": "stream",
     "text": [
      "Enter a string :saurav\n",
      "length of given string :  6\n"
     ]
    }
   ],
   "source": [
    "#1.Find length of the string without using len()\n",
    "a = input(\"Enter a string :\")\n",
    "count = 0\n",
    "for i in (a):\n",
    "    count+=1\n",
    "print(\"length of given string : \",count)"
   ]
  },
  {
   "cell_type": "code",
   "execution_count": 2,
   "metadata": {},
   "outputs": [
    {
     "name": "stdout",
     "output_type": "stream",
     "text": [
      "Enter first string :saurav\n",
      "Enter second string :kaushik\n",
      "concatenation string :  sauravkaushik\n"
     ]
    }
   ],
   "source": [
    "#2.Write a program that accepts two strings and outputs the concatenation of them.Example: ‘hello’ , ‘world’ ==> ‘helloworld’\n",
    "a = input(\"Enter first string :\")\n",
    "b = input(\"Enter second string :\")\n",
    "c=a+b\n",
    "print(\"concatenation string : \",c)"
   ]
  },
  {
   "cell_type": "code",
   "execution_count": 4,
   "metadata": {},
   "outputs": [
    {
     "name": "stdout",
     "output_type": "stream",
     "text": [
      "Enter a string :saurav\n",
      "number of alphabet :  6 \n",
      "number of digit :  0\n"
     ]
    }
   ],
   "source": [
    "#3.Write a program that accepts a sentence (string) and calculate the number of letters and digits.Example: ‘this is a test sentence number 389’ ==> letters = 25 and digits = 3.\n",
    "a=input(\"Enter a string :\")\n",
    "alpha=0\n",
    "num=0\n",
    "\n",
    "for i in a:\n",
    "    test=i\n",
    "    if(test.isalpha()==True):\n",
    "        alpha+=1\n",
    "    elif(test.isdigit()==True):\n",
    "        num+=1\n",
    "print(\"number of alphabet : \",alpha,\"\\nnumber of digit : \",num)"
   ]
  },
  {
   "cell_type": "code",
   "execution_count": 5,
   "metadata": {},
   "outputs": [
    {
     "name": "stdout",
     "output_type": "stream",
     "text": [
      "Enter a string : saurav\n",
      "SAURAV\n"
     ]
    }
   ],
   "source": [
    "#4.Write a program that accepts a string and outputs the string with all capital letters.       Example: ‘hello’ ==> ‘HELLO’\n",
    "\n",
    "a=input(\"Enter a string : \")\n",
    "a=a.upper()\n",
    "print(a)"
   ]
  },
  {
   "cell_type": "code",
   "execution_count": 6,
   "metadata": {},
   "outputs": [
    {
     "name": "stdout",
     "output_type": "stream",
     "text": [
      "Enter a string : saETvyu\n",
      "Upper case :  2 \n",
      "Lower case :  5\n"
     ]
    }
   ],
   "source": [
    "#5.Write a program that accepts a sentence and calculate the number of upper case letters and lower case letters.\n",
    "\n",
    "a=input(\"Enter a string : \" )\n",
    "up=0\n",
    "low=0\n",
    "for i in a:\n",
    "    if(i.islower()==True):\n",
    "        low+=1\n",
    "    elif(i.isupper()==True):\n",
    "        up+=1\n",
    "    else:\n",
    "        pass\n",
    "print(\"Upper case : \",up,\"\\nLower case : \",low)"
   ]
  },
  {
   "cell_type": "code",
   "execution_count": 7,
   "metadata": {},
   "outputs": [
    {
     "name": "stdout",
     "output_type": "stream",
     "text": [
      "Enter a string : saurav\n",
      "SAURAV\n"
     ]
    }
   ],
   "source": [
    "#5.Swap cases in a string using loops\n",
    "\n",
    "a=input(\"Enter a string : \")\n",
    "b=''\n",
    "for i in a:\n",
    "   if(i.islower()==True):\n",
    "    b+=i.upper()\n",
    "   elif(i.isupper()==True):\n",
    "    b+=i.lower()\n",
    "    \n",
    "print(b)"
   ]
  },
  {
   "cell_type": "code",
   "execution_count": 8,
   "metadata": {},
   "outputs": [
    {
     "name": "stdout",
     "output_type": "stream",
     "text": [
      "Enter a string : saurav\n",
      "enter a test chararacter :a\n",
      "number of time  a  is present in string '  saurav  ' is :  2\n"
     ]
    }
   ],
   "source": [
    "#6.Write  a program that counts the occurrence of a character in a string. Example: ‘This is a test string.’ count of i = 3.\n",
    "\n",
    "a=input(\"Enter a string : \")\n",
    "atest=(input(\"enter a test chararacter :\"))\n",
    "count=0\n",
    "for i in a:\n",
    "    if(i==test):\n",
    "        count+=1\n",
    "        \n",
    "print(\"number of time \",test,\" is present in string ' \",a,\" ' is : \",count)"
   ]
  },
  {
   "cell_type": "code",
   "execution_count": 9,
   "metadata": {},
   "outputs": [
    {
     "name": "stdout",
     "output_type": "stream",
     "text": [
      "Enter a string : naman\n",
      "palindrome\n"
     ]
    }
   ],
   "source": [
    "#7.Write a program to find if a given string is a pallindrome or not.\n",
    "\n",
    "a=input(\"Enter a string : \")\n",
    "b=a[::-1]\n",
    "if(a==b):\n",
    "    print(\"palindrome\")\n",
    "else:\n",
    "    print(\"not palindrome\")"
   ]
  },
  {
   "cell_type": "code",
   "execution_count": 10,
   "metadata": {},
   "outputs": [
    {
     "name": "stdout",
     "output_type": "stream",
     "text": [
      "enter string : saurav\n",
      "enter index : 1\n",
      "character :D\n",
      "sDurav\n"
     ]
    }
   ],
   "source": [
    "#8.Write a program to that accepts a string s, an index number n and a character ‘c’. And outputs the string replaced with the character at the index number n.\n",
    "\n",
    "a=input(\"enter string : \")\n",
    "n=int(input(\"enter index : \"))\n",
    "c=input(\"character :\")\n",
    "if(n<len(a)):\n",
    "    list1=list(a)\n",
    "    list1.pop(n)\n",
    "    list1.insert(n,c)\n",
    "    a=\"\"\n",
    "    for i in list1:\n",
    "        a+=i\n",
    "\n",
    "    print(a)\n",
    "\n",
    "else:\n",
    "   print(\"Index value error\")"
   ]
  },
  {
   "cell_type": "code",
   "execution_count": 11,
   "metadata": {},
   "outputs": [
    {
     "name": "stdout",
     "output_type": "stream",
     "text": [
      "enter String: saurav\n",
      "enter Substring: skbuv\n",
      "number of time ' skbuv ' appears in ' saurav ' are : 0\n"
     ]
    }
   ],
   "source": [
    "#9.Output the integer number indicating the total number of occurrences of the substring in the original string.\n",
    "\n",
    "a=input(\"enter String: \")\n",
    "b=input(\"enter Substring: \")\n",
    "print(\"number of time '\",b,\"' appears in '\",a,\"' are :\",a.count(b))"
   ]
  },
  {
   "cell_type": "code",
   "execution_count": 12,
   "metadata": {},
   "outputs": [
    {
     "name": "stdout",
     "output_type": "stream",
     "text": [
      "Enter binary number:1001\n",
      "Enter value of K:3\n",
      "False\n"
     ]
    }
   ],
   "source": [
    "#10.Check if there are K consecutive 1’s in a binary number. Example: ’100100111011110010111’  1 k = 3 output: True 2 k = 5 output: False\n",
    "a=input(\"Enter binary number:\")\n",
    "k=int(input(\"Enter value of K:\"))\n",
    "b='1'*k\n",
    "if(a.count(b) >= 1):\n",
    "    print(True)\n",
    "else:\n",
    "    print(False)"
   ]
  },
  {
   "cell_type": "code",
   "execution_count": 2,
   "metadata": {},
   "outputs": [
    {
     "name": "stdout",
     "output_type": "stream",
     "text": [
      "enter your passwordsaurav@123\n",
      "not valid\n"
     ]
    }
   ],
   "source": [
    "#15(password validator using regex)\n",
    "import re\n",
    "p=input(\"enter your password\")\n",
    "x=True\n",
    "while x:\n",
    "    if(len(p)<6 or len(p)>12):\n",
    "        break\n",
    "    elif not re.search(\"[a-z]\",p):\n",
    "        break\n",
    "    elif not re.search(\"[A-Z]\",p):\n",
    "        break\n",
    "    elif not re.search(\"[0-9]\",p):\n",
    "        break\n",
    "    elif not re.search(\"[@$#]\",p):\n",
    "        break\n",
    "    else:\n",
    "        print(\"valid password\")\n",
    "        x=False\n",
    "        break\n",
    "if x:\n",
    "    print(\"not valid\")"
   ]
  },
  {
   "cell_type": "code",
   "execution_count": null,
   "metadata": {},
   "outputs": [],
   "source": []
  },
  {
   "cell_type": "code",
   "execution_count": null,
   "metadata": {},
   "outputs": [],
   "source": []
  },
  {
   "cell_type": "code",
   "execution_count": null,
   "metadata": {},
   "outputs": [],
   "source": []
  }
 ],
 "metadata": {
  "kernelspec": {
   "display_name": "Python 3",
   "language": "python",
   "name": "python3"
  },
  "language_info": {
   "codemirror_mode": {
    "name": "ipython",
    "version": 3
   },
   "file_extension": ".py",
   "mimetype": "text/x-python",
   "name": "python",
   "nbconvert_exporter": "python",
   "pygments_lexer": "ipython3",
   "version": "3.7.3"
  }
 },
 "nbformat": 4,
 "nbformat_minor": 2
}
