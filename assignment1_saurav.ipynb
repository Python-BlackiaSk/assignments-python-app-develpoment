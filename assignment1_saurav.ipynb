{
 "cells": [
  {
   "cell_type": "code",
   "execution_count": 2,
   "metadata": {},
   "outputs": [
    {
     "name": "stdout",
     "output_type": "stream",
     "text": [
      "Enter the value of a: 8\n",
      "Enter the value of b: 9\n",
      "9\n",
      "8\n"
     ]
    }
   ],
   "source": [
    "# 1. Write a program to swap two variables. Example: x = 3, y = 5 ==> y = 3 , x = 5. \n",
    "a=int(input(\"Enter the value of a: \"))\n",
    "b=int(input(\"Enter the value of b: \"))\n",
    "a=a+b\n",
    "b=a-b\n",
    "a=a-b\n",
    "print(a)\n",
    "print(b)\n",
    "\n"
   ]
  },
  {
   "cell_type": "code",
   "execution_count": 3,
   "metadata": {},
   "outputs": [
    {
     "name": "stdout",
     "output_type": "stream",
     "text": [
      "Enter a number: 24\n",
      "This number is Even\n"
     ]
    }
   ],
   "source": [
    "# 2. Write a program to check if a number is odd or even\n",
    "num = int(input(\"Enter a number: \"))\n",
    "if (num % 2) == 0:\n",
    "   print(\"This number is Even\")\n",
    "else:\n",
    "   print(\"This number is Odd\")\n"
   ]
  },
  {
   "cell_type": "code",
   "execution_count": 4,
   "metadata": {},
   "outputs": [
    {
     "name": "stdout",
     "output_type": "stream",
     "text": [
      "Enter a number: 84\n",
      "The square root is  9.16515138991168\n"
     ]
    }
   ],
   "source": [
    "# 3. Write a program to find the square root of a number\n",
    "num = int(input(\"Enter a number: \"))\n",
    "sol=num**0.5\n",
    "print (\"The square root is \",sol)\n"
   ]
  },
  {
   "cell_type": "code",
   "execution_count": 5,
   "metadata": {},
   "outputs": [
    {
     "name": "stdout",
     "output_type": "stream",
     "text": [
      "Please Enter any Number: 90\n",
      "List of Natural Numbers from 90 to 1 in Reverse Order : \n",
      "90  89  88  87  86  85  84  83  82  81  80  79  78  77  76  75  74  73  72  71  70  69  68  67  66  65  64  63  62  61  60  59  58  57  56  55  54  53  52  51  50  49  48  47  46  45  44  43  42  41  40  39  38  37  36  35  34  33  32  31  30  29  28  27  26  25  24  23  22  21  20  19  18  17  16  15  14  13  12  11  10  9  8  7  6  5  4  3  2  1  "
     ]
    }
   ],
   "source": [
    "# 4. Write a program to print all the natural numbers from 1 to n (user input). Then print the same in reverse order. \n",
    "n = int(input(\"Please Enter any Number: \"))\n",
    "print(\"List of Natural Numbers from {0} to 1 in Reverse Order : \".format(n)) \n",
    "while ( n >= 1):\n",
    "    print (n, end = '  ')\n",
    "    n = n - 1"
   ]
  },
  {
   "cell_type": "code",
   "execution_count": 6,
   "metadata": {},
   "outputs": [
    {
     "name": "stdout",
     "output_type": "stream",
     "text": [
      "Please enter the radius: 5\n",
      "The volume of given sphere is  523.3333333333334\n"
     ]
    }
   ],
   "source": [
    "# 5. Write a program which prints volume of a sphere, given the radius. (use pi = 3.14). \n",
    "r = int(input(\"Please enter the radius: \"))\n",
    "v=(4/3)*3.14*r*r*r\n",
    "print(\"The volume of given sphere is \",v)"
   ]
  },
  {
   "cell_type": "code",
   "execution_count": 7,
   "metadata": {},
   "outputs": [
    {
     "name": "stdout",
     "output_type": "stream",
     "text": [
      "The even numbers are \n",
      "2  4  6  8  10  12  14  16  18  20  22  24  26  28  30  32  34  36  38  40  42  44  46  48  50  52  54  56  58  60  62  64  66  68  70  72  74  76  78  80  82  84  86  88  90  92  94  96  98      \n",
      "The odd numbers are \n",
      "1  3  5  7  9  11  13  15  17  19  21  23  25  27  29  31  33  35  37  39  41  43  45  47  49  51  53  55  57  59  61  63  65  67  69  71  73  75  77  79  81  83  85  87  89  91  93  95  97  99  "
     ]
    }
   ],
   "source": [
    "# 6. Print all odd and even numbers between 1 to 100\n",
    "print (\"The even numbers are \")\n",
    "for num in range(1,100):\n",
    "    if num%2==0:\n",
    "        print ( num,end='  ')\n",
    "    num=num+1\n",
    "print(\"    \")\n",
    "print (\"The odd numbers are \")\n",
    "for num in range(1,100):\n",
    "    if num%2!=0:\n",
    "        print ( num,end='  ')\n",
    "    num=num+1"
   ]
  },
  {
   "cell_type": "code",
   "execution_count": 8,
   "metadata": {},
   "outputs": [
    {
     "name": "stdout",
     "output_type": "stream",
     "text": [
      "Enter the vale of a: 5\n",
      "Enter the vale of b: 7\n",
      "Enter the vale of c: 9\n",
      "The roots are imaginary.\n"
     ]
    }
   ],
   "source": [
    "#7. Write a program to compute roots of a quadratic equation when coefficients a, b and c are known\n",
    "a = int(input(\"Enter the vale of a: \"))\n",
    "b = int(input(\"Enter the vale of b: \"))\n",
    "c = int(input(\"Enter the vale of c: \"))\n",
    "root1=(-b+(((b**2)-(4*a*c))**0.5))/(2*a)\n",
    "root2=(-b-(((b**2)-(4*a*c))**0.5))/(2*a)\n",
    "if ((b**2)-4*a*c)>=0:\n",
    "    print (\"The roots are: \",root1,\" and \",root2)\n",
    "else:\n",
    "    print (\"The roots are imaginary.\")"
   ]
  },
  {
   "cell_type": "code",
   "execution_count": 9,
   "metadata": {},
   "outputs": [
    {
     "name": "stdout",
     "output_type": "stream",
     "text": [
      "Enter the number: 876\n",
      "3\n"
     ]
    }
   ],
   "source": [
    "# 8. Count the number of digits in a number.\n",
    "n=input(\"Enter the number: \")\n",
    "def count(x):\n",
    "    print(len(str(x)))\n",
    "count(n)"
   ]
  },
  {
   "cell_type": "code",
   "execution_count": 10,
   "metadata": {},
   "outputs": [
    {
     "name": "stdout",
     "output_type": "stream",
     "text": [
      "Enter the value: 65\n",
      "65 is not a prime number\n"
     ]
    }
   ],
   "source": [
    "# 9. Write a program to check if a number is prime or not.\n",
    "num = int(input(\"Enter the value: \"))\n",
    "if num > 1:\n",
    "    for i in range(2,num):\n",
    "        if (num % i) == 0:\n",
    "            print(num,\"is not a prime number\")\n",
    "            break\n",
    "    else:\n",
    "            print(num,\"is a prime number\")\n",
    "else:\n",
    "    print(num,\"is not a prime number\")\n"
   ]
  },
  {
   "cell_type": "code",
   "execution_count": 11,
   "metadata": {},
   "outputs": [
    {
     "name": "stdout",
     "output_type": "stream",
     "text": [
      "Enter a number67\n"
     ]
    },
    {
     "data": {
      "text/plain": [
       "1064"
      ]
     },
     "execution_count": 11,
     "metadata": {},
     "output_type": "execute_result"
    }
   ],
   "source": [
    "# 10. Write a program that asks the user for a number n and prints the sum of the numbers 1 to n \n",
    "#such that only multiples of three or five are considered in the sum.    \n",
    "def sum(x):\n",
    "    t=0\n",
    "    for i in range(1,x+1):\n",
    "        if(i%3==0 or i%5==0):\n",
    "            t+=i\n",
    "        else:\n",
    "            pass\n",
    "    return t\n",
    "\n",
    "x=int(input(\"Enter a number\"))\n",
    "sum(x)"
   ]
  },
  {
   "cell_type": "code",
   "execution_count": 13,
   "metadata": {},
   "outputs": [
    {
     "name": "stdout",
     "output_type": "stream",
     "text": [
      "Enter a Number 67\n",
      " Type 1 for sum & 2 for product\n",
      "Do you want the sum or product of all terms- 1\n",
      "2278\n"
     ]
    }
   ],
   "source": [
    "# 11. Write a program that asks the user for a number n and gives them the possibility \n",
    "#to choose between computing the sum and computing the product of 1,…,n.\n",
    "def sum(x):\n",
    "    total=0\n",
    "    for i in range(1,x+1):\n",
    "        total+=i\n",
    "    print(total)\n",
    "\n",
    "def pro(x):\n",
    "    total=1\n",
    "    for i in range(1,x+1):\n",
    "        total*=i\n",
    "    print(total)\n",
    "\n",
    "x=int(input(\"Enter a Number \"))\n",
    "print(\" Type 1 for sum & 2 for product\")\n",
    "y=input(\"Do you want the sum or product of all terms- \")\n",
    "\n",
    "if(y==\"1\"):\n",
    "    sum(x)\n",
    "elif(y==\"2\"):\n",
    "    pro(x)\n",
    "else:\n",
    "    print(\"Wrong Input! (1/2)\")"
   ]
  },
  {
   "cell_type": "code",
   "execution_count": 14,
   "metadata": {},
   "outputs": [
    {
     "name": "stdout",
     "output_type": "stream",
     "text": [
      "233168\n"
     ]
    }
   ],
   "source": [
    "#12. Find the sum of all the multiplpes of 3 or 5 below 1000\n",
    "sum=0\n",
    "for i in range(1,1000):\n",
    "      if i %3==0 or i %5==0:\n",
    "             sum+=i\n",
    "print(sum)"
   ]
  },
  {
   "cell_type": "code",
   "execution_count": 15,
   "metadata": {},
   "outputs": [
    {
     "name": "stdout",
     "output_type": "stream",
     "text": [
      "2030\n",
      "2065\n",
      "2100\n",
      "2135\n",
      "2170\n",
      "2205\n",
      "2240\n",
      "2275\n",
      "2310\n",
      "2345\n",
      "2380\n",
      "2415\n",
      "2450\n",
      "2485\n",
      "2520\n",
      "2555\n",
      "2590\n",
      "2625\n",
      "2660\n",
      "2695\n",
      "2730\n",
      "2765\n",
      "2800\n",
      "2835\n",
      "2870\n",
      "2905\n",
      "2940\n",
      "2975\n",
      "3010\n",
      "3045\n",
      "3080\n",
      "3115\n",
      "3150\n",
      "3185\n"
     ]
    }
   ],
   "source": [
    "#13. Write a program which will find all such numbers which are divisible by 7 \n",
    "# but are not a multiple of 5, between 2000 and 3200 (both included). \n",
    "l=2000\n",
    "u=3200\n",
    "for i in range (l,u+1):\n",
    "    if(i%7==0 and i%5==0):\n",
    "        print(i)"
   ]
  },
  {
   "cell_type": "code",
   "execution_count": 17,
   "metadata": {},
   "outputs": [
    {
     "name": "stdout",
     "output_type": "stream",
     "text": [
      "-25164150.0\n"
     ]
    }
   ],
   "source": [
    "#14. Find the difference between the sum of the squares of the first one hundred natural numbers and the square of the sum. \n",
    "def SqD(n): \n",
    "    l = (n*(n+1)*(2*n+1))/6\n",
    "    k = (n*(n+1))/2  \n",
    "    k = k**2\n",
    "      \n",
    "    m = (l-k) \n",
    "    return m \n",
    "\n",
    "print(SqD(100))"
   ]
  },
  {
   "cell_type": "code",
   "execution_count": null,
   "metadata": {},
   "outputs": [],
   "source": [
    "# 15. Write a program which repeatedly reads numbers until the user enters \"stop\". \n",
    "#Once \"stop\" is entered, print out the total, count, and average of the numbers. \n",
    "#If the user enters anything other than a number then also stop.\n"
   ]
  },
  {
   "cell_type": "code",
   "execution_count": 18,
   "metadata": {},
   "outputs": [
    {
     "name": "stdout",
     "output_type": "stream",
     "text": [
      "Enter the value of n : 67\n",
      "Prime numbers till 67 are:\n",
      "2\n",
      "3\n",
      "5\n",
      "7\n",
      "11\n",
      "13\n",
      "17\n",
      "19\n",
      "23\n",
      "29\n",
      "31\n",
      "37\n",
      "41\n",
      "43\n",
      "47\n",
      "53\n",
      "59\n",
      "61\n",
      "67\n"
     ]
    }
   ],
   "source": [
    "# 16.  Write a program that prints all prime numbers till n.\n",
    "n = int(input(\"Enter the value of n : \"))\n",
    "\n",
    "print(\"Prime numbers till\" ,n,\"are:\")\n",
    "\n",
    "for num in range(0,n + 1):\n",
    "    if num > 1:\n",
    "        for i in range(2,num):\n",
    "            if (num % i) == 0:\n",
    "                break\n",
    "        else:\n",
    "            print(num)"
   ]
  },
  {
   "cell_type": "code",
   "execution_count": 19,
   "metadata": {},
   "outputs": [
    {
     "name": "stdout",
     "output_type": "stream",
     "text": [
      "Enter a number: 10\n",
      "The factorial of 10 is 3628800\n"
     ]
    }
   ],
   "source": [
    "# 17. Write a program to compute the factorial of a given number\n",
    "num = int(input(\"Enter a number: \"))\n",
    "\n",
    "factorial = 1\n",
    "if num < 0:\n",
    "   print(\"Sorry, factorial does not exist for negative numbers\")\n",
    "elif num == 0:\n",
    "   print(\"The factorial of 0 is 1\")\n",
    "else:\n",
    "   for i in range(1,num + 1):\n",
    "       factorial = factorial*i\n",
    "   print(\"The factorial of\",num,\"is\",factorial)\n"
   ]
  },
  {
   "cell_type": "code",
   "execution_count": 20,
   "metadata": {},
   "outputs": [
    {
     "name": "stdout",
     "output_type": "stream",
     "text": [
      "How many terms? 100\n",
      "Fibonacci sequence upto 100 :\n",
      "0   1   1   2   3   5   8   13   21   34   55   89   144   233   377   610   987   1597   2584   4181   6765   10946   17711   28657   46368   75025   121393   196418   317811   514229   832040   1346269   2178309   3524578   5702887   9227465   14930352   24157817   39088169   63245986   102334155   165580141   267914296   433494437   701408733   1134903170   1836311903   2971215073   4807526976   7778742049   12586269025   20365011074   32951280099   53316291173   86267571272   139583862445   225851433717   365435296162   591286729879   956722026041   1548008755920   2504730781961   4052739537881   6557470319842   10610209857723   17167680177565   27777890035288   44945570212853   72723460248141   117669030460994   190392490709135   308061521170129   498454011879264   806515533049393   1304969544928657   2111485077978050   3416454622906707   5527939700884757   8944394323791464   14472334024676221   23416728348467685   37889062373143906   61305790721611591   99194853094755497   160500643816367088   259695496911122585   420196140727489673   679891637638612258   1100087778366101931   1779979416004714189   2880067194370816120   4660046610375530309   7540113804746346429   12200160415121876738   19740274219868223167   31940434634990099905   51680708854858323072   83621143489848422977   135301852344706746049   218922995834555169026   "
     ]
    }
   ],
   "source": [
    "# 18. Write a program to print fibonacci series till n\n",
    "nterms = int(input(\"How many terms? \"))\n",
    "n1 = 0\n",
    "n2 = 1\n",
    "count = 0\n",
    "if nterms <= 0:\n",
    "   print(\"Please enter a positive integer\")\n",
    "elif nterms == 1:\n",
    "   print(\"Fibonacci sequence upto\",nterms,\":\")\n",
    "   print(n1)\n",
    "else:\n",
    "   print(\"Fibonacci sequence upto\",nterms,\":\")\n",
    "   while count < nterms:\n",
    "       print(n1,end='   ')\n",
    "       nth = n1 + n2\n",
    "       n1 = n2\n",
    "       n2 = nth\n",
    "       count += 1"
   ]
  },
  {
   "cell_type": "code",
   "execution_count": 21,
   "metadata": {},
   "outputs": [
    {
     "name": "stdout",
     "output_type": "stream",
     "text": [
      "Enter first number: 6\n",
      "Enter second number: 4\n",
      "The L.C.M. of 6 and 4 is 12\n"
     ]
    }
   ],
   "source": [
    "# 19. Write a program to calculate LCM of two given numbers\n",
    "def lcm(x, y):\n",
    "   if x > y:\n",
    "       a = x\n",
    "   else:\n",
    "       a = y\n",
    "   while(True):\n",
    "       if((a % x == 0) and (a % y == 0)):\n",
    "           lcm = a\n",
    "           break\n",
    "       a += 1\n",
    "\n",
    "   return lcm\n",
    "\n",
    "num1 = int(input(\"Enter first number: \"))\n",
    "num2 = int(input(\"Enter second number: \"))\n",
    "\n",
    "print(\"The L.C.M. of\", num1,\"and\", num2,\"is\", lcm(num1, num2))"
   ]
  },
  {
   "cell_type": "code",
   "execution_count": 22,
   "metadata": {},
   "outputs": [
    {
     "name": "stdout",
     "output_type": "stream",
     "text": [
      "Enter a number: 10\n",
      "The factors of 10 are:\n",
      "1\n",
      "2\n",
      "5\n",
      "10\n"
     ]
    }
   ],
   "source": [
    "# 20. Write a program to find the factors of a given number\n",
    "def factors(x):\n",
    "   print(\"The factors of\",x,\"are:\")\n",
    "   for i in range(1, x + 1):\n",
    "       if x % i == 0:\n",
    "           print(i)\n",
    "n = int(input(\"Enter a number: \"))\n",
    "factors(n)"
   ]
  },
  {
   "cell_type": "code",
   "execution_count": 23,
   "metadata": {},
   "outputs": [
    {
     "name": "stdout",
     "output_type": "stream",
     "text": [
      " Enter your number: 5\n",
      "*\n",
      "**\n",
      "***\n",
      "****\n",
      "*****\n"
     ]
    }
   ],
   "source": [
    "# Write a program to print the following pattern\n",
    "n=int(input(\" Enter your number: \"))\n",
    "for i in range(1,n+1):\n",
    "        print(\"*\"*i ,end=\"\\n\")"
   ]
  },
  {
   "cell_type": "code",
   "execution_count": 24,
   "metadata": {},
   "outputs": [
    {
     "name": "stdout",
     "output_type": "stream",
     "text": [
      "******\n",
      "*****\n",
      "****\n",
      "***\n",
      "**\n",
      "*\n"
     ]
    }
   ],
   "source": [
    "# 21. Write a program to print the following patterns\n",
    "# 2)\n",
    "for i in range(0,1):\n",
    "    for j in range(6,0,-1):\n",
    "        print(\"*\"*j)"
   ]
  },
  {
   "cell_type": "code",
   "execution_count": 28,
   "metadata": {},
   "outputs": [
    {
     "name": "stdout",
     "output_type": "stream",
     "text": [
      " Enter your number: 5\n",
      "1 \n",
      "\n",
      "2 2 \n",
      "\n",
      "3 3 3 \n",
      "\n",
      "4 4 4 4 \n",
      "\n",
      "5 5 5 5 5 \n",
      "\n"
     ]
    }
   ],
   "source": [
    "# 21)3. Write a program to print the following pattern\n",
    "n=int(input(\" Enter your number: \"))\n",
    "for i in range(1,n+1):\n",
    "    for j in range(1,i+1):\n",
    "        print(i,end=\" \")\n",
    "    print(\"\\n\")\n",
    "\n"
   ]
  },
  {
   "cell_type": "code",
   "execution_count": 29,
   "metadata": {},
   "outputs": [
    {
     "name": "stdout",
     "output_type": "stream",
     "text": [
      "enter your number: 5\n",
      "    * \n",
      "   * * \n",
      "  * * * \n",
      " * * * * \n",
      "* * * * * \n"
     ]
    }
   ],
   "source": [
    "# 21)4. Write a program to print the following pattern\n",
    "n=int(input(\"enter your number: \"))                                                                                    \n",
    "for i in range(0,n):\n",
    "    for j in range(0,n-i-1):\n",
    "        print(end=\" \")\n",
    "    for j in range(0,i+1):\n",
    "        print(\"*\",end=\" \")\n",
    "    print()"
   ]
  },
  {
   "cell_type": "code",
   "execution_count": 31,
   "metadata": {},
   "outputs": [
    {
     "name": "stdout",
     "output_type": "stream",
     "text": [
      " Enter your number: 5\n",
      "1 \n",
      "\n",
      "2 3 \n",
      "\n",
      "4 5 6 \n",
      "\n",
      "7 8 9 10 \n",
      "\n"
     ]
    }
   ],
   "source": [
    "# Write a program to print the following pattern\n",
    "n=int(input(\" Enter your number: \"))\n",
    "k=0\n",
    "for i in range(1,n):\n",
    "    for j in range(1,i+1):\n",
    "        k+=1\n",
    "        print(k,end=\" \")\n",
    "    print(\"\\n\")"
   ]
  },
  {
   "cell_type": "code",
   "execution_count": 32,
   "metadata": {},
   "outputs": [
    {
     "name": "stdout",
     "output_type": "stream",
     "text": [
      " Enter your number: 5\n",
      "A \n",
      "\n",
      "B C \n",
      "\n",
      "D E F \n",
      "\n",
      "G H I J \n",
      "\n"
     ]
    }
   ],
   "source": [
    "# Write a program to print the following pattern\n",
    "n=int(input(\" Enter your number: \"))\n",
    "ch=64\n",
    "for i in range(1,n):\n",
    "    for j in range(1,i+1):\n",
    "        ch+=1\n",
    "        print(chr(ch),end=\" \")\n",
    "    print(\"\\n\")"
   ]
  },
  {
   "cell_type": "code",
   "execution_count": 34,
   "metadata": {},
   "outputs": [
    {
     "name": "stdout",
     "output_type": "stream",
     "text": [
      "Enter the number: 9\n",
      "The series is: \n",
      "9+99+999+9999+\n",
      "The sum is: 11106\n"
     ]
    }
   ],
   "source": [
    "#22. Write a program that computes the value of a+aa+aaa+aaaa with a given digit as the value of a. \n",
    "n=int(input(\"Enter the number: \"))\n",
    "sum=0\n",
    "print(\"The series is: \")\n",
    "def repeat(n,r):\n",
    "    a=n\n",
    "    while(r>1):\n",
    "        a=a*10\n",
    "        a=a+n\n",
    "        r-=1\n",
    "    return a\n",
    "for i in range(1,5):\n",
    "    temp=repeat(n,i)\n",
    "    print(temp,end=\"+\")\n",
    "    sum=sum+temp\n",
    "print(\"\\nThe sum is:\",sum)"
   ]
  },
  {
   "cell_type": "code",
   "execution_count": null,
   "metadata": {},
   "outputs": [],
   "source": []
  },
  {
   "cell_type": "code",
   "execution_count": null,
   "metadata": {},
   "outputs": [],
   "source": []
  },
  {
   "cell_type": "code",
   "execution_count": null,
   "metadata": {},
   "outputs": [],
   "source": []
  }
 ],
 "metadata": {
  "kernelspec": {
   "display_name": "Python 3",
   "language": "python",
   "name": "python3"
  },
  "language_info": {
   "codemirror_mode": {
    "name": "ipython",
    "version": 3
   },
   "file_extension": ".py",
   "mimetype": "text/x-python",
   "name": "python",
   "nbconvert_exporter": "python",
   "pygments_lexer": "ipython3",
   "version": "3.7.3"
  }
 },
 "nbformat": 4,
 "nbformat_minor": 2
}
